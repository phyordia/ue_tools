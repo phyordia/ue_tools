{
 "cells": [
  {
   "cell_type": "markdown",
   "id": "d2ee20fe",
   "metadata": {},
   "source": [
    "Follolwing Ben Cloward Landscape Texture optimization [YouTube](https://www.youtube.com/watch?v=mEDoy-N1ODQ&list=PL78XDi0TS4lEApKzZgBwZaEAyr97EywSJ&index=2&ab_channel=BenCloward)\n",
    "\n",
    "CR: `(R, G, B, Alpha) = (Albedo.R, Albedo.G, Albedo.B, Roughness)`\n",
    "\n",
    "NOS: `(R, G, B, Alpha) = (Normal.R, Normal.G, Cavity * AO, Displacement)`"
   ]
  },
  {
   "cell_type": "code",
   "execution_count": 1,
   "id": "342e6727",
   "metadata": {},
   "outputs": [],
   "source": [
    "from PIL import Image, ImageChops\n",
    "from glob import glob\n",
    "import os"
   ]
  },
  {
   "cell_type": "code",
   "execution_count": 9,
   "id": "db59f5b5",
   "metadata": {},
   "outputs": [],
   "source": [
    "# Create CR image\n",
    "def create_cr_noh(path_to_asset, output_format=\"tga\", inv_grayscale=False):\n",
    "\n",
    "    ms_assets={x.split('_')[-1].split('.')[0]:x for x in glob(os.path.join(ms_asset_dir, \"*.jpg\"))}\n",
    "    ms_assets\n",
    "\n",
    "    with Image.open(ms_assets['Albedo']) as albedo, Image.open(ms_assets['Roughness']) as roughness:\n",
    "        bw_roughness = roughness.convert(\"L\")\n",
    "        if inv_grayscale:\n",
    "            bw_roughness = ImageChops.invert(bw_roughness)\n",
    "        \n",
    "        albedo.putalpha(bw_roughness)\n",
    "        out_name = ms_assets['Albedo'].replace('Albedo.jpg', f'CR_inv.{output_format}')\n",
    "        albedo.save(out_name)\n",
    "\n",
    "    # Create NOH image\n",
    "    with Image.open(ms_assets['Normal']) as normal, \\\n",
    "    Image.open(ms_assets['Cavity']) as cavity, Image.open(ms_assets['AO']) as ao,\\\n",
    "    Image.open(ms_assets['Displacement']) as displacement:\n",
    "\n",
    "\n",
    "        r = normal.getchannel(0)\n",
    "        g = normal.getchannel(1)\n",
    "        b = ImageChops.multiply(cavity, ao).convert('L')\n",
    "        if inv_grayscale:\n",
    "            b = ImageChops.invert(b) \n",
    "        a = displacement.convert(\"L\")\n",
    "\n",
    "        result = Image.merge('RGBA', (r, g, b, a))\n",
    "        out_name = ms_assets['Albedo'].replace('Albedo.jpg', f'NOH_inv.{output_format}')\n",
    "        result.save(out_name)\n",
    "        \n",
    "\n"
   ]
  },
  {
   "cell_type": "code",
   "execution_count": 10,
   "id": "58b552d0",
   "metadata": {},
   "outputs": [],
   "source": [
    "ms_asset_dir = os.path.abspath(\"Megascans/Downloaded/surface/moss_rock_ujqmejtr/\")\n",
    "\n",
    "create_cr_noh(ms_asset_dir)"
   ]
  },
  {
   "cell_type": "code",
   "execution_count": null,
   "id": "a035bd4d",
   "metadata": {},
   "outputs": [],
   "source": []
  }
 ],
 "metadata": {
  "kernelspec": {
   "display_name": "Python 3 (ipykernel)",
   "language": "python",
   "name": "python3"
  },
  "language_info": {
   "codemirror_mode": {
    "name": "ipython",
    "version": 3
   },
   "file_extension": ".py",
   "mimetype": "text/x-python",
   "name": "python",
   "nbconvert_exporter": "python",
   "pygments_lexer": "ipython3",
   "version": "3.9.5"
  }
 },
 "nbformat": 4,
 "nbformat_minor": 5
}
